{
 "cells": [
  {
   "cell_type": "markdown",
   "metadata": {},
   "source": [
    "### Dependencies"
   ]
  },
  {
   "cell_type": "code",
   "execution_count": 137,
   "metadata": {
    "dotnet_interactive": {
     "language": "fsharp"
    },
    "polyglot_notebook": {
     "kernelName": "fsharp"
    }
   },
   "outputs": [
    {
     "data": {
      "text/html": [
       "<div><div></div><div></div><div><strong>Installed Packages</strong><ul><li><span>Plotly.NET.ImageExport, 5.0.1</span></li><li><span>Plotly.NET.Interactive, 4.2.1</span></li></ul></div></div>"
      ]
     },
     "metadata": {},
     "output_type": "display_data"
    }
   ],
   "source": [
    "#r \"nuget: Plotly.NET.Interactive\"\n",
    "#r \"nuget: Plotly.NET.ImageExport\""
   ]
  },
  {
   "cell_type": "code",
   "execution_count": 138,
   "metadata": {
    "dotnet_interactive": {
     "language": "fsharp"
    },
    "polyglot_notebook": {
     "kernelName": "fsharp"
    }
   },
   "outputs": [],
   "source": [
    "open System\n",
    "open System.Runtime.CompilerServices\n",
    "\n",
    "open Plotly.NET\n",
    "open Plotly.NET.ImageExport\n",
    "open Plotly.NET.LayoutObjects"
   ]
  },
  {
   "cell_type": "markdown",
   "metadata": {},
   "source": [
    "### Utilities"
   ]
  },
  {
   "cell_type": "code",
   "execution_count": 139,
   "metadata": {
    "dotnet_interactive": {
     "language": "fsharp"
    },
    "polyglot_notebook": {
     "kernelName": "fsharp"
    }
   },
   "outputs": [],
   "source": [
    "let random = Random()"
   ]
  },
  {
   "cell_type": "code",
   "execution_count": 140,
   "metadata": {
    "dotnet_interactive": {
     "language": "fsharp"
    },
    "polyglot_notebook": {
     "kernelName": "fsharp"
    }
   },
   "outputs": [],
   "source": [
    "let staticConfig = Config.init(\n",
    "    StaticPlot = true\n",
    ")\n",
    "\n",
    "type Chart with\n",
    "    static member Display (chart: GenericChart.GenericChart) =\n",
    "        match GenericChart.tryGetLayoutSize chart with\n",
    "        | Some width, Some height ->\n",
    "            chart\n",
    "            |> Chart.withConfig staticConfig\n",
    "            |> Chart.toSVGString(Width = width, Height = height)\n",
    "            |> (fun chart -> chart.DisplayAs \"text/html\")\n",
    "        | _ ->\n",
    "            chart\n",
    "            |> Chart.withConfig staticConfig\n",
    "            |> Chart.toSVGString()\n",
    "            |> (fun chart -> chart.DisplayAs \"text/html\")"
   ]
  },
  {
   "cell_type": "markdown",
   "metadata": {},
   "source": [
    "### Chapter 1"
   ]
  },
  {
   "cell_type": "code",
   "execution_count": 141,
   "metadata": {
    "dotnet_interactive": {
     "language": "fsharp"
    },
    "polyglot_notebook": {
     "kernelName": "fsharp"
    }
   },
   "outputs": [],
   "source": [
    "type RollOfDice =\n",
    "    | One = 0\n",
    "    | Two = 1\n",
    "    | Three = 2\n",
    "    | Four = 3\n",
    "    | Five = 4\n",
    "    | Six = 5"
   ]
  },
  {
   "cell_type": "code",
   "execution_count": 142,
   "metadata": {
    "dotnet_interactive": {
     "language": "fsharp"
    },
    "polyglot_notebook": {
     "kernelName": "fsharp"
    }
   },
   "outputs": [],
   "source": [
    "let rollLoadedDice () =\n",
    "    let rec loadedRoll numberOfAttempts =\n",
    "        let roll = enum<RollOfDice>(random.Next 6)\n",
    "        match roll with\n",
    "        | RollOfDice.Four when numberOfAttempts <= 3 -> loadedRoll (numberOfAttempts + 1)\n",
    "        | x -> enum<RollOfDice>(random.Next 6)\n",
    "    loadedRoll 0"
   ]
  },
  {
   "cell_type": "code",
   "execution_count": 143,
   "metadata": {
    "dotnet_interactive": {
     "language": "fsharp"
    },
    "polyglot_notebook": {
     "kernelName": "fsharp"
    }
   },
   "outputs": [],
   "source": [
    "let rollLoadedDice () =\n",
    "    match random.NextDouble() with\n",
    "    | x when 0.000 <= x && x < 0.080 -> RollOfDice.Four\n",
    "    | x when 0.080 <= x && x < 0.264 -> RollOfDice.One\n",
    "    | x when 0.264 <= x && x < 0.448 -> RollOfDice.Two\n",
    "    | x when 0.448 <= x && x < 0.632 -> RollOfDice.Three\n",
    "    | x when 0.632 <= x && x < 0.816 -> RollOfDice.Five\n",
    "    | x (* when 0.816 <= x < 1.0 *)  -> RollOfDice.Six"
   ]
  },
  {
   "cell_type": "code",
   "execution_count": 144,
   "metadata": {
    "dotnet_interactive": {
     "language": "fsharp"
    },
    "polyglot_notebook": {
     "kernelName": "fsharp"
    }
   },
   "outputs": [],
   "source": [
    "let rollFairDice () =\n",
    "    enum<RollOfDice>(random.Next 6)"
   ]
  },
  {
   "cell_type": "code",
   "execution_count": 145,
   "metadata": {
    "dotnet_interactive": {
     "language": "fsharp"
    },
    "polyglot_notebook": {
     "kernelName": "fsharp"
    }
   },
   "outputs": [
    {
     "data": {
      "text/html": [
       "<span>Six</span>"
      ]
     },
     "metadata": {},
     "output_type": "display_data"
    }
   ],
   "source": [
    "rollLoadedDice()"
   ]
  },
  {
   "cell_type": "code",
   "execution_count": 146,
   "metadata": {
    "dotnet_interactive": {
     "language": "fsharp"
    },
    "polyglot_notebook": {
     "kernelName": "fsharp"
    }
   },
   "outputs": [
    {
     "data": {
      "text/html": [
       "<span>Six</span>"
      ]
     },
     "metadata": {},
     "output_type": "display_data"
    }
   ],
   "source": [
    "rollFairDice()"
   ]
  },
  {
   "cell_type": "code",
   "execution_count": 147,
   "metadata": {
    "dotnet_interactive": {
     "language": "fsharp"
    },
    "polyglot_notebook": {
     "kernelName": "fsharp"
    }
   },
   "outputs": [],
   "source": [
    "let generateRawData (roll: Unit -> RollOfDice) numberOfRolls =\n",
    "    [for _ in [1..numberOfRolls] -> roll()]"
   ]
  },
  {
   "cell_type": "code",
   "execution_count": 148,
   "metadata": {
    "dotnet_interactive": {
     "language": "fsharp"
    },
    "polyglot_notebook": {
     "kernelName": "fsharp"
    }
   },
   "outputs": [],
   "source": [
    "let chartSize = 350\n",
    "let layoutStyle = Layout.init(\n",
    "    Margin = Margin.init(20, 20, 20, 20),\n",
    "    BarGap = 0.1)\n",
    "\n",
    "let prepareDataForHistogram (rollsOfDice: RollOfDice list) =\n",
    "    rollsOfDice\n",
    "    |> List.sortBy int\n",
    "    |> List.map (sprintf \"%A\")"
   ]
  },
  {
   "cell_type": "code",
   "execution_count": 149,
   "metadata": {
    "dotnet_interactive": {
     "language": "fsharp"
    },
    "polyglot_notebook": {
     "kernelName": "fsharp"
    }
   },
   "outputs": [
    {
     "data": {
      "text/html": [
       "<svg class=\"main-svg\" xmlns=\"http://www.w3.org/2000/svg\" xmlns:xlink=\"http://www.w3.org/1999/xlink\" width=\"350\" height=\"350\" style=\"\" viewBox=\"0 0 350 350\"><rect x=\"0\" y=\"0\" width=\"350\" height=\"350\" style=\"fill: rgb(255, 255, 255); fill-opacity: 1;\"/><defs id=\"defs-4cb4f4\"><g class=\"clips\"><clipPath id=\"clip4cb4f4xyplot\" class=\"plotclip\"><rect width=\"294\" height=\"302\"/></clipPath><clipPath class=\"axesclip\" id=\"clip4cb4f4x\"><rect x=\"36\" y=\"0\" width=\"294\" height=\"350\"/></clipPath><clipPath class=\"axesclip\" id=\"clip4cb4f4y\"><rect x=\"0\" y=\"20\" width=\"350\" height=\"302\"/></clipPath><clipPath class=\"axesclip\" id=\"clip4cb4f4xy\"><rect x=\"36\" y=\"20\" width=\"294\" height=\"302\"/></clipPath></g><g class=\"gradients\"/><g class=\"patterns\"/></defs><g class=\"bglayer\"><rect class=\"bg\" x=\"36\" y=\"20\" width=\"294\" height=\"302\" style=\"fill: rgb(229, 236, 246); fill-opacity: 1; stroke-width: 0;\"/></g><g class=\"layer-below\"><g class=\"imagelayer\"/><g class=\"shapelayer\"/></g><g class=\"cartesianlayer\"><g class=\"subplot xy\"><g class=\"layer-subplot\"><g class=\"shapelayer\"/><g class=\"imagelayer\"/></g><g class=\"minor-gridlayer\"><g class=\"x\"/><g class=\"y\"/></g><g class=\"gridlayer\"><g class=\"x\"><path class=\"xgrid crisp\" transform=\"translate(60.5,0)\" d=\"M0,20v302\" style=\"stroke: rgb(255, 255, 255); stroke-opacity: 1; stroke-width: 1px;\"/><path class=\"xgrid crisp\" transform=\"translate(109.5,0)\" d=\"M0,20v302\" style=\"stroke: rgb(255, 255, 255); stroke-opacity: 1; stroke-width: 1px;\"/><path class=\"xgrid crisp\" transform=\"translate(158.5,0)\" d=\"M0,20v302\" style=\"stroke: rgb(255, 255, 255); stroke-opacity: 1; stroke-width: 1px;\"/><path class=\"xgrid crisp\" transform=\"translate(207.5,0)\" d=\"M0,20v302\" style=\"stroke: rgb(255, 255, 255); stroke-opacity: 1; stroke-width: 1px;\"/><path class=\"xgrid crisp\" transform=\"translate(256.5,0)\" d=\"M0,20v302\" style=\"stroke: rgb(255, 255, 255); stroke-opacity: 1; stroke-width: 1px;\"/><path class=\"xgrid crisp\" transform=\"translate(305.5,0)\" d=\"M0,20v302\" style=\"stroke: rgb(255, 255, 255); stroke-opacity: 1; stroke-width: 1px;\"/></g><g class=\"y\"><path class=\"ygrid crisp\" transform=\"translate(0,265.75)\" d=\"M36,0h294\" style=\"stroke: rgb(255, 255, 255); stroke-opacity: 1; stroke-width: 1px;\"/><path class=\"ygrid crisp\" transform=\"translate(0,209.49)\" d=\"M36,0h294\" style=\"stroke: rgb(255, 255, 255); stroke-opacity: 1; stroke-width: 1px;\"/><path class=\"ygrid crisp\" transform=\"translate(0,153.24)\" d=\"M36,0h294\" style=\"stroke: rgb(255, 255, 255); stroke-opacity: 1; stroke-width: 1px;\"/><path class=\"ygrid crisp\" transform=\"translate(0,96.98)\" d=\"M36,0h294\" style=\"stroke: rgb(255, 255, 255); stroke-opacity: 1; stroke-width: 1px;\"/><path class=\"ygrid crisp\" transform=\"translate(0,40.730000000000004)\" d=\"M36,0h294\" style=\"stroke: rgb(255, 255, 255); stroke-opacity: 1; stroke-width: 1px;\"/></g></g><g class=\"zerolinelayer\"><path class=\"yzl zl crisp\" transform=\"translate(0,322)\" d=\"M36,0h294\" style=\"stroke: rgb(255, 255, 255); stroke-opacity: 1; stroke-width: 2px;\"/></g><path class=\"xlines-below\"/><path class=\"ylines-below\"/><g class=\"overlines-below\"/><g class=\"xaxislayer-below\"/><g class=\"yaxislayer-below\"/><g class=\"overaxes-below\"/><g class=\"plot\" transform=\"translate(36,20)\" clip-path=\"url(#clip4cb4f4xyplot)\"><g class=\"barlayer mlayer\"><g class=\"trace bars\" style=\"opacity: 1;\"><g class=\"points\"><g class=\"point\"><path d=\"M2.45,302V34.79H46.55V302Z\" style=\"vector-effect: none; opacity: 1; stroke-width: 0px; fill: rgb(0, 139, 139); fill-opacity: 1;\"/></g><g class=\"point\"><path d=\"M51.45,302V54.48H95.55V302Z\" style=\"vector-effect: none; opacity: 1; stroke-width: 0px; fill: rgb(0, 139, 139); fill-opacity: 1;\"/></g><g class=\"point\"><path d=\"M100.45,302V76.98H144.55V302Z\" style=\"vector-effect: none; opacity: 1; stroke-width: 0px; fill: rgb(0, 139, 139); fill-opacity: 1;\"/></g><g class=\"point\"><path d=\"M149.45,302V181.05H193.55V302Z\" style=\"vector-effect: none; opacity: 1; stroke-width: 0px; fill: rgb(0, 139, 139); fill-opacity: 1;\"/></g><g class=\"point\"><path d=\"M198.45,302V15.1H242.55V302Z\" style=\"vector-effect: none; opacity: 1; stroke-width: 0px; fill: rgb(0, 139, 139); fill-opacity: 1;\"/></g><g class=\"point\"><path d=\"M247.45,302V43.23H291.55V302Z\" style=\"vector-effect: none; opacity: 1; stroke-width: 0px; fill: rgb(0, 139, 139); fill-opacity: 1;\"/></g></g></g></g></g><g class=\"overplot\"/><path class=\"xlines-above crisp\" d=\"M0,0\" style=\"fill: none;\"/><path class=\"ylines-above crisp\" d=\"M0,0\" style=\"fill: none;\"/><g class=\"overlines-above\"/><g class=\"xaxislayer-above\"><g class=\"xtick\"><text text-anchor=\"middle\" x=\"0\" y=\"335\" transform=\"translate(60.5,0)\" style=\"font-family: 'Open Sans', verdana, arial, sans-serif; font-size: 12px; fill: rgb(42, 63, 95); fill-opacity: 1; white-space: pre; opacity: 1;\">One</text></g><g class=\"xtick\"><text text-anchor=\"middle\" x=\"0\" y=\"335\" transform=\"translate(109.5,0)\" style=\"font-family: 'Open Sans', verdana, arial, sans-serif; font-size: 12px; fill: rgb(42, 63, 95); fill-opacity: 1; white-space: pre; opacity: 1;\">Two</text></g><g class=\"xtick\"><text text-anchor=\"middle\" x=\"0\" y=\"335\" transform=\"translate(158.5,0)\" style=\"font-family: 'Open Sans', verdana, arial, sans-serif; font-size: 12px; fill: rgb(42, 63, 95); fill-opacity: 1; white-space: pre; opacity: 1;\">Three</text></g><g class=\"xtick\"><text text-anchor=\"middle\" x=\"0\" y=\"335\" transform=\"translate(207.5,0)\" style=\"font-family: 'Open Sans', verdana, arial, sans-serif; font-size: 12px; fill: rgb(42, 63, 95); fill-opacity: 1; white-space: pre; opacity: 1;\">Four</text></g><g class=\"xtick\"><text text-anchor=\"middle\" x=\"0\" y=\"335\" transform=\"translate(256.5,0)\" style=\"font-family: 'Open Sans', verdana, arial, sans-serif; font-size: 12px; fill: rgb(42, 63, 95); fill-opacity: 1; white-space: pre; opacity: 1;\">Five</text></g><g class=\"xtick\"><text text-anchor=\"middle\" x=\"0\" y=\"335\" transform=\"translate(305.5,0)\" style=\"font-family: 'Open Sans', verdana, arial, sans-serif; font-size: 12px; fill: rgb(42, 63, 95); fill-opacity: 1; white-space: pre; opacity: 1;\">Six</text></g></g><g class=\"yaxislayer-above\"><g class=\"ytick\"><text text-anchor=\"end\" x=\"35\" y=\"4.199999999999999\" transform=\"translate(0,322)\" style=\"font-family: 'Open Sans', verdana, arial, sans-serif; font-size: 12px; fill: rgb(42, 63, 95); fill-opacity: 1; white-space: pre; opacity: 1;\">0</text></g><g class=\"ytick\"><text text-anchor=\"end\" x=\"35\" y=\"4.199999999999999\" style=\"font-family: 'Open Sans', verdana, arial, sans-serif; font-size: 12px; fill: rgb(42, 63, 95); fill-opacity: 1; white-space: pre; opacity: 1;\" transform=\"translate(0,265.75)\">20</text></g><g class=\"ytick\"><text text-anchor=\"end\" x=\"35\" y=\"4.199999999999999\" style=\"font-family: 'Open Sans', verdana, arial, sans-serif; font-size: 12px; fill: rgb(42, 63, 95); fill-opacity: 1; white-space: pre; opacity: 1;\" transform=\"translate(0,209.49)\">40</text></g><g class=\"ytick\"><text text-anchor=\"end\" x=\"35\" y=\"4.199999999999999\" style=\"font-family: 'Open Sans', verdana, arial, sans-serif; font-size: 12px; fill: rgb(42, 63, 95); fill-opacity: 1; white-space: pre; opacity: 1;\" transform=\"translate(0,153.24)\">60</text></g><g class=\"ytick\"><text text-anchor=\"end\" x=\"35\" y=\"4.199999999999999\" style=\"font-family: 'Open Sans', verdana, arial, sans-serif; font-size: 12px; fill: rgb(42, 63, 95); fill-opacity: 1; white-space: pre; opacity: 1;\" transform=\"translate(0,96.98)\">80</text></g><g class=\"ytick\"><text text-anchor=\"end\" x=\"35\" y=\"4.199999999999999\" style=\"font-family: 'Open Sans', verdana, arial, sans-serif; font-size: 12px; fill: rgb(42, 63, 95); fill-opacity: 1; white-space: pre; opacity: 1;\" transform=\"translate(0,40.730000000000004)\">100</text></g></g><g class=\"overaxes-above\"/></g></g><g class=\"polarlayer\"/><g class=\"smithlayer\"/><g class=\"ternarylayer\"/><g class=\"geolayer\"/><g class=\"funnelarealayer\"/><g class=\"pielayer\"/><g class=\"iciclelayer\"/><g class=\"treemaplayer\"/><g class=\"sunburstlayer\"/><g class=\"glimages\"/><defs id=\"topdefs-4cb4f4\"><g class=\"clips\"/></defs><g class=\"layer-above\"><g class=\"imagelayer\"/><g class=\"shapelayer\"/></g><g class=\"infolayer\"><g class=\"g-gtitle\"/><g class=\"g-xtitle\"/><g class=\"g-ytitle\"/></g></svg>"
      ]
     },
     "metadata": {},
     "output_type": "display_data"
    }
   ],
   "source": [
    "generateRawData rollLoadedDice 500\n",
    "|> prepareDataForHistogram\n",
    "|> Chart.Histogram\n",
    "|> Chart.withSize (chartSize, chartSize)\n",
    "|> Chart.withXAxisStyle (ShowGrid = true)\n",
    "|> Chart.withLayout layoutStyle\n",
    "|> Chart.withMarkerStyle(Color = Color.fromKeyword DarkCyan)\n",
    "|> Chart.Display"
   ]
  },
  {
   "cell_type": "code",
   "execution_count": 151,
   "metadata": {
    "dotnet_interactive": {
     "language": "fsharp"
    },
    "polyglot_notebook": {
     "kernelName": "fsharp"
    }
   },
   "outputs": [
    {
     "data": {
      "text/html": [
       "<svg class=\"main-svg\" xmlns=\"http://www.w3.org/2000/svg\" xmlns:xlink=\"http://www.w3.org/1999/xlink\" width=\"350\" height=\"350\" style=\"\" viewBox=\"0 0 350 350\"><rect x=\"0\" y=\"0\" width=\"350\" height=\"350\" style=\"fill: rgb(255, 255, 255); fill-opacity: 1;\"/><defs id=\"defs-99b3aa\"><g class=\"clips\"><clipPath id=\"clip99b3aaxyplot\" class=\"plotclip\"><rect width=\"286\" height=\"302\"/></clipPath><clipPath class=\"axesclip\" id=\"clip99b3aax\"><rect x=\"44\" y=\"0\" width=\"286\" height=\"350\"/></clipPath><clipPath class=\"axesclip\" id=\"clip99b3aay\"><rect x=\"0\" y=\"20\" width=\"350\" height=\"302\"/></clipPath><clipPath class=\"axesclip\" id=\"clip99b3aaxy\"><rect x=\"44\" y=\"20\" width=\"286\" height=\"302\"/></clipPath></g><g class=\"gradients\"/><g class=\"patterns\"/></defs><g class=\"bglayer\"><rect class=\"bg\" x=\"44\" y=\"20\" width=\"286\" height=\"302\" style=\"fill: rgb(229, 236, 246); fill-opacity: 1; stroke-width: 0;\"/></g><g class=\"layer-below\"><g class=\"imagelayer\"/><g class=\"shapelayer\"/></g><g class=\"cartesianlayer\"><g class=\"subplot xy\"><g class=\"layer-subplot\"><g class=\"shapelayer\"/><g class=\"imagelayer\"/></g><g class=\"minor-gridlayer\"><g class=\"x\"/><g class=\"y\"/></g><g class=\"gridlayer\"><g class=\"x\"><path class=\"xgrid crisp\" transform=\"translate(67.83,0)\" d=\"M0,20v302\" style=\"stroke: rgb(255, 255, 255); stroke-opacity: 1; stroke-width: 1px;\"/><path class=\"xgrid crisp\" transform=\"translate(115.5,0)\" d=\"M0,20v302\" style=\"stroke: rgb(255, 255, 255); stroke-opacity: 1; stroke-width: 1px;\"/><path class=\"xgrid crisp\" transform=\"translate(163.17000000000002,0)\" d=\"M0,20v302\" style=\"stroke: rgb(255, 255, 255); stroke-opacity: 1; stroke-width: 1px;\"/><path class=\"xgrid crisp\" transform=\"translate(210.83,0)\" d=\"M0,20v302\" style=\"stroke: rgb(255, 255, 255); stroke-opacity: 1; stroke-width: 1px;\"/><path class=\"xgrid crisp\" transform=\"translate(258.5,0)\" d=\"M0,20v302\" style=\"stroke: rgb(255, 255, 255); stroke-opacity: 1; stroke-width: 1px;\"/><path class=\"xgrid crisp\" transform=\"translate(306.17,0)\" d=\"M0,20v302\" style=\"stroke: rgb(255, 255, 255); stroke-opacity: 1; stroke-width: 1px;\"/></g><g class=\"y\"><path class=\"ygrid crisp\" transform=\"translate(0,254.87)\" d=\"M44,0h286\" style=\"stroke: rgb(255, 255, 255); stroke-opacity: 1; stroke-width: 1px;\"/><path class=\"ygrid crisp\" transform=\"translate(0,187.73)\" d=\"M44,0h286\" style=\"stroke: rgb(255, 255, 255); stroke-opacity: 1; stroke-width: 1px;\"/><path class=\"ygrid crisp\" transform=\"translate(0,120.6)\" d=\"M44,0h286\" style=\"stroke: rgb(255, 255, 255); stroke-opacity: 1; stroke-width: 1px;\"/><path class=\"ygrid crisp\" transform=\"translate(0,53.46)\" d=\"M44,0h286\" style=\"stroke: rgb(255, 255, 255); stroke-opacity: 1; stroke-width: 1px;\"/></g></g><g class=\"zerolinelayer\"><path class=\"yzl zl crisp\" transform=\"translate(0,322)\" d=\"M44,0h286\" style=\"stroke: rgb(255, 255, 255); stroke-opacity: 1; stroke-width: 2px;\"/></g><path class=\"xlines-below\"/><path class=\"ylines-below\"/><g class=\"overlines-below\"/><g class=\"xaxislayer-below\"/><g class=\"yaxislayer-below\"/><g class=\"overaxes-below\"/><g class=\"plot\" transform=\"translate(44,20)\" clip-path=\"url(#clip99b3aaxyplot)\"><g class=\"barlayer mlayer\"><g class=\"trace bars\" style=\"opacity: 1;\"><g class=\"points\"><g class=\"point\"><path d=\"M2.38,302V25.2H45.28V302Z\" style=\"vector-effect: none; opacity: 1; stroke-width: 0px; fill: rgb(0, 139, 139); fill-opacity: 1;\"/></g><g class=\"point\"><path d=\"M50.05,302V29.53H92.95V302Z\" style=\"vector-effect: none; opacity: 1; stroke-width: 0px; fill: rgb(0, 139, 139); fill-opacity: 1;\"/></g><g class=\"point\"><path d=\"M97.72,302V22.45H140.62V302Z\" style=\"vector-effect: none; opacity: 1; stroke-width: 0px; fill: rgb(0, 139, 139); fill-opacity: 1;\"/></g><g class=\"point\"><path d=\"M145.38,302V20.57H188.28V302Z\" style=\"vector-effect: none; opacity: 1; stroke-width: 0px; fill: rgb(0, 139, 139); fill-opacity: 1;\"/></g><g class=\"point\"><path d=\"M193.05,302V15.1H235.95V302Z\" style=\"vector-effect: none; opacity: 1; stroke-width: 0px; fill: rgb(0, 139, 139); fill-opacity: 1;\"/></g><g class=\"point\"><path d=\"M240.72,302V20.77H283.62V302Z\" style=\"vector-effect: none; opacity: 1; stroke-width: 0px; fill: rgb(0, 139, 139); fill-opacity: 1;\"/></g></g></g></g></g><g class=\"overplot\"/><path class=\"xlines-above crisp\" d=\"M0,0\" style=\"fill: none;\"/><path class=\"ylines-above crisp\" d=\"M0,0\" style=\"fill: none;\"/><g class=\"overlines-above\"/><g class=\"xaxislayer-above\"><g class=\"xtick\"><text text-anchor=\"middle\" x=\"0\" y=\"335\" transform=\"translate(67.83,0)\" style=\"font-family: 'Open Sans', verdana, arial, sans-serif; font-size: 12px; fill: rgb(42, 63, 95); fill-opacity: 1; white-space: pre; opacity: 1;\">One</text></g><g class=\"xtick\"><text text-anchor=\"middle\" x=\"0\" y=\"335\" transform=\"translate(115.5,0)\" style=\"font-family: 'Open Sans', verdana, arial, sans-serif; font-size: 12px; fill: rgb(42, 63, 95); fill-opacity: 1; white-space: pre; opacity: 1;\">Two</text></g><g class=\"xtick\"><text text-anchor=\"middle\" x=\"0\" y=\"335\" transform=\"translate(163.17000000000002,0)\" style=\"font-family: 'Open Sans', verdana, arial, sans-serif; font-size: 12px; fill: rgb(42, 63, 95); fill-opacity: 1; white-space: pre; opacity: 1;\">Three</text></g><g class=\"xtick\"><text text-anchor=\"middle\" x=\"0\" y=\"335\" transform=\"translate(210.83,0)\" style=\"font-family: 'Open Sans', verdana, arial, sans-serif; font-size: 12px; fill: rgb(42, 63, 95); fill-opacity: 1; white-space: pre; opacity: 1;\">Four</text></g><g class=\"xtick\"><text text-anchor=\"middle\" x=\"0\" y=\"335\" transform=\"translate(258.5,0)\" style=\"font-family: 'Open Sans', verdana, arial, sans-serif; font-size: 12px; fill: rgb(42, 63, 95); fill-opacity: 1; white-space: pre; opacity: 1;\">Five</text></g><g class=\"xtick\"><text text-anchor=\"middle\" x=\"0\" y=\"335\" transform=\"translate(306.17,0)\" style=\"font-family: 'Open Sans', verdana, arial, sans-serif; font-size: 12px; fill: rgb(42, 63, 95); fill-opacity: 1; white-space: pre; opacity: 1;\">Six</text></g></g><g class=\"yaxislayer-above\"><g class=\"ytick\"><text text-anchor=\"end\" x=\"43\" y=\"4.199999999999999\" transform=\"translate(0,322)\" style=\"font-family: 'Open Sans', verdana, arial, sans-serif; font-size: 12px; fill: rgb(42, 63, 95); fill-opacity: 1; white-space: pre; opacity: 1;\">0</text></g><g class=\"ytick\"><text text-anchor=\"end\" x=\"43\" y=\"4.199999999999999\" style=\"font-family: 'Open Sans', verdana, arial, sans-serif; font-size: 12px; fill: rgb(42, 63, 95); fill-opacity: 1; white-space: pre; opacity: 1;\" transform=\"translate(0,254.87)\">2000</text></g><g class=\"ytick\"><text text-anchor=\"end\" x=\"43\" y=\"4.199999999999999\" style=\"font-family: 'Open Sans', verdana, arial, sans-serif; font-size: 12px; fill: rgb(42, 63, 95); fill-opacity: 1; white-space: pre; opacity: 1;\" transform=\"translate(0,187.73)\">4000</text></g><g class=\"ytick\"><text text-anchor=\"end\" x=\"43\" y=\"4.199999999999999\" style=\"font-family: 'Open Sans', verdana, arial, sans-serif; font-size: 12px; fill: rgb(42, 63, 95); fill-opacity: 1; white-space: pre; opacity: 1;\" transform=\"translate(0,120.6)\">6000</text></g><g class=\"ytick\"><text text-anchor=\"end\" x=\"43\" y=\"4.199999999999999\" style=\"font-family: 'Open Sans', verdana, arial, sans-serif; font-size: 12px; fill: rgb(42, 63, 95); fill-opacity: 1; white-space: pre; opacity: 1;\" transform=\"translate(0,53.46)\">8000</text></g></g><g class=\"overaxes-above\"/></g></g><g class=\"polarlayer\"/><g class=\"smithlayer\"/><g class=\"ternarylayer\"/><g class=\"geolayer\"/><g class=\"funnelarealayer\"/><g class=\"pielayer\"/><g class=\"iciclelayer\"/><g class=\"treemaplayer\"/><g class=\"sunburstlayer\"/><g class=\"glimages\"/><defs id=\"topdefs-99b3aa\"><g class=\"clips\"/></defs><g class=\"layer-above\"><g class=\"imagelayer\"/><g class=\"shapelayer\"/></g><g class=\"infolayer\"><g class=\"g-gtitle\"/><g class=\"g-xtitle\"/><g class=\"g-ytitle\"/></g></svg>"
      ]
     },
     "metadata": {},
     "output_type": "display_data"
    }
   ],
   "source": [
    "generateRawData rollFairDice 50_000\n",
    "|> prepareDataForHistogram\n",
    "|> Chart.Histogram\n",
    "|> Chart.withSize (chartSize, chartSize)\n",
    "|> Chart.withXAxisStyle (ShowGrid = true)\n",
    "|> Chart.withLayout layoutStyle\n",
    "|> Chart.withMarkerStyle(Color = Color.fromKeyword DarkCyan)\n",
    "|> Chart.Display"
   ]
  }
 ],
 "metadata": {
  "kernelspec": {
   "display_name": ".NET (C#)",
   "language": "C#",
   "name": ".net-csharp"
  },
  "language_info": {
   "name": "polyglot-notebook"
  },
  "polyglot_notebook": {
   "kernelInfo": {
    "defaultKernelName": "csharp",
    "items": [
     {
      "aliases": [],
      "name": "csharp"
     }
    ]
   }
  }
 },
 "nbformat": 4,
 "nbformat_minor": 2
}

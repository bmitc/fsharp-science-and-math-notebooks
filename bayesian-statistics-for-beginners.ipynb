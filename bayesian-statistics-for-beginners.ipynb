{
 "cells": [
  {
   "cell_type": "code",
   "execution_count": 1315,
   "metadata": {
    "dotnet_interactive": {
     "language": "fsharp"
    },
    "polyglot_notebook": {
     "kernelName": "fsharp"
    }
   },
   "outputs": [
    {
     "data": {
      "text/html": [
       "<div><div></div><div></div><div><strong>Installed Packages</strong><ul><li><span>Plotly.NET.Interactive, 4.0.0</span></li></ul></div></div>"
      ]
     },
     "metadata": {},
     "output_type": "display_data"
    }
   ],
   "source": [
    "#r \"nuget: Plotly.NET.Interactive, 4.0.0\"\n",
    "\n",
    "open System\n",
    "open Plotly.NET\n",
    "open Plotly.NET.LayoutObjects"
   ]
  },
  {
   "cell_type": "code",
   "execution_count": 1316,
   "metadata": {
    "dotnet_interactive": {
     "language": "fsharp"
    },
    "polyglot_notebook": {
     "kernelName": "fsharp"
    }
   },
   "outputs": [],
   "source": [
    "let random = Random()"
   ]
  },
  {
   "cell_type": "code",
   "execution_count": 1317,
   "metadata": {
    "dotnet_interactive": {
     "language": "fsharp"
    },
    "polyglot_notebook": {
     "kernelName": "fsharp"
    }
   },
   "outputs": [],
   "source": [
    "type RollOfDice =\n",
    "    | One = 0\n",
    "    | Two = 1\n",
    "    | Three = 2\n",
    "    | Four = 3\n",
    "    | Five = 4\n",
    "    | Six = 5"
   ]
  },
  {
   "cell_type": "code",
   "execution_count": 1318,
   "metadata": {
    "dotnet_interactive": {
     "language": "fsharp"
    },
    "polyglot_notebook": {
     "kernelName": "fsharp"
    }
   },
   "outputs": [],
   "source": [
    "let rollLoadedDice () =\n",
    "    let rec loadedRoll numberOfAttempts =\n",
    "        let roll = enum<RollOfDice>(random.Next 6)\n",
    "        match roll with\n",
    "        | RollOfDice.Four when numberOfAttempts <= 3 -> loadedRoll (numberOfAttempts + 1)\n",
    "        | x -> enum<RollOfDice>(random.Next 6)\n",
    "    loadedRoll 0"
   ]
  },
  {
   "cell_type": "code",
   "execution_count": 1319,
   "metadata": {
    "dotnet_interactive": {
     "language": "fsharp"
    },
    "polyglot_notebook": {
     "kernelName": "fsharp"
    }
   },
   "outputs": [],
   "source": [
    "let rollLoadedDice () =\n",
    "    match random.NextDouble() with\n",
    "    | x when 0.000 <= x && x < 0.080 -> RollOfDice.Four\n",
    "    | x when 0.080 <= x && x < 0.264 -> RollOfDice.One\n",
    "    | x when 0.264 <= x && x < 0.448 -> RollOfDice.Two\n",
    "    | x when 0.448 <= x && x < 0.632 -> RollOfDice.Three\n",
    "    | x when 0.632 <= x && x < 0.816 -> RollOfDice.Five\n",
    "    | x (*when 0.816<=x<1.0*) -> RollOfDice.Six"
   ]
  },
  {
   "cell_type": "code",
   "execution_count": 1320,
   "metadata": {
    "dotnet_interactive": {
     "language": "fsharp"
    },
    "polyglot_notebook": {
     "kernelName": "fsharp"
    }
   },
   "outputs": [],
   "source": [
    "let rollFairDice () =\n",
    "    enum<RollOfDice>(random.Next 6)"
   ]
  },
  {
   "cell_type": "code",
   "execution_count": 1321,
   "metadata": {
    "dotnet_interactive": {
     "language": "fsharp"
    },
    "polyglot_notebook": {
     "kernelName": "fsharp"
    }
   },
   "outputs": [
    {
     "data": {
      "text/html": [
       "<span>Six</span>"
      ]
     },
     "metadata": {},
     "output_type": "display_data"
    }
   ],
   "source": [
    "rollLoadedDice()"
   ]
  },
  {
   "cell_type": "code",
   "execution_count": 1322,
   "metadata": {
    "dotnet_interactive": {
     "language": "fsharp"
    },
    "polyglot_notebook": {
     "kernelName": "fsharp"
    }
   },
   "outputs": [
    {
     "data": {
      "text/html": [
       "<span>Four</span>"
      ]
     },
     "metadata": {},
     "output_type": "display_data"
    }
   ],
   "source": [
    "rollFairDice()"
   ]
  },
  {
   "cell_type": "code",
   "execution_count": 1323,
   "metadata": {
    "dotnet_interactive": {
     "language": "fsharp"
    },
    "polyglot_notebook": {
     "kernelName": "fsharp"
    }
   },
   "outputs": [],
   "source": [
    "let generateRawData (roll: Unit -> RollOfDice) numberOfRolls =\n",
    "    [for _ in [1..numberOfRolls] -> roll()]"
   ]
  },
  {
   "cell_type": "code",
   "execution_count": 1324,
   "metadata": {
    "dotnet_interactive": {
     "language": "fsharp"
    },
    "polyglot_notebook": {
     "kernelName": "fsharp"
    }
   },
   "outputs": [],
   "source": [
    "let chartSize = 350\n",
    "let layoutStyle = Layout.init(Margin = Margin.init(20, 20, 20, 20), BarGap = 0.1)\n",
    "\n",
    "let prepareDataForHistogram (rollsOfDice: RollOfDice list) =\n",
    "    rollsOfDice\n",
    "    |> List.sortBy int\n",
    "    |> List.map (sprintf \"%A\")"
   ]
  },
  {
   "cell_type": "code",
   "execution_count": 1325,
   "metadata": {
    "dotnet_interactive": {
     "language": "fsharp"
    },
    "polyglot_notebook": {
     "kernelName": "fsharp"
    }
   },
   "outputs": [
    {
     "data": {
      "text/html": [
       "<div><div id=\"bcb905f5-b725-4d9c-881b-b64ff9014029\"><!-- Plotly chart will be drawn inside this DIV --></div><script type=\"text/javascript\">\r\n",
       "var renderPlotly_bcb905f5b7254d9c881bb64ff9014029 = function() {\r\n",
       "    var fsharpPlotlyRequire = requirejs.config({context:'fsharp-plotly',paths:{plotly:'https://cdn.plot.ly/plotly-2.18.1.min'}}) || require;\r\n",
       "    fsharpPlotlyRequire(['plotly'], function(Plotly) {\r\n",
       "        var data = [{\"type\":\"histogram\",\"x\":[\"One\",\"One\",\"One\",\"One\",\"One\",\"One\",\"One\",\"One\",\"One\",\"One\",\"One\",\"One\",\"One\",\"One\",\"One\",\"One\",\"One\",\"One\",\"One\",\"One\",\"One\",\"One\",\"One\",\"One\",\"One\",\"One\",\"One\",\"One\",\"One\",\"One\",\"One\",\"One\",\"One\",\"One\",\"One\",\"One\",\"One\",\"One\",\"One\",\"One\",\"One\",\"One\",\"One\",\"One\",\"One\",\"One\",\"One\",\"One\",\"One\",\"One\",\"One\",\"One\",\"One\",\"One\",\"One\",\"One\",\"One\",\"One\",\"One\",\"One\",\"One\",\"One\",\"One\",\"One\",\"One\",\"One\",\"One\",\"One\",\"One\",\"One\",\"One\",\"One\",\"One\",\"One\",\"One\",\"One\",\"One\",\"One\",\"One\",\"One\",\"One\",\"One\",\"One\",\"One\",\"One\",\"One\",\"One\",\"One\",\"One\",\"One\",\"One\",\"One\",\"One\",\"One\",\"One\",\"One\",\"One\",\"One\",\"One\",\"One\",\"One\",\"One\",\"One\",\"One\",\"One\",\"One\",\"One\",\"Two\",\"Two\",\"Two\",\"Two\",\"Two\",\"Two\",\"Two\",\"Two\",\"Two\",\"Two\",\"Two\",\"Two\",\"Two\",\"Two\",\"Two\",\"Two\",\"Two\",\"Two\",\"Two\",\"Two\",\"Two\",\"Two\",\"Two\",\"Two\",\"Two\",\"Two\",\"Two\",\"Two\",\"Two\",\"Two\",\"Two\",\"Two\",\"Two\",\"Two\",\"Two\",\"Two\",\"Two\",\"Two\",\"Two\",\"Two\",\"Two\",\"Two\",\"Two\",\"Two\",\"Two\",\"Two\",\"Two\",\"Two\",\"Two\",\"Two\",\"Two\",\"Two\",\"Two\",\"Two\",\"Two\",\"Two\",\"Two\",\"Two\",\"Two\",\"Two\",\"Two\",\"Two\",\"Two\",\"Two\",\"Two\",\"Two\",\"Two\",\"Two\",\"Two\",\"Two\",\"Two\",\"Two\",\"Two\",\"Two\",\"Two\",\"Two\",\"Two\",\"Two\",\"Two\",\"Two\",\"Two\",\"Two\",\"Three\",\"Three\",\"Three\",\"Three\",\"Three\",\"Three\",\"Three\",\"Three\",\"Three\",\"Three\",\"Three\",\"Three\",\"Three\",\"Three\",\"Three\",\"Three\",\"Three\",\"Three\",\"Three\",\"Three\",\"Three\",\"Three\",\"Three\",\"Three\",\"Three\",\"Three\",\"Three\",\"Three\",\"Three\",\"Three\",\"Three\",\"Three\",\"Three\",\"Three\",\"Three\",\"Three\",\"Three\",\"Three\",\"Three\",\"Three\",\"Three\",\"Three\",\"Three\",\"Three\",\"Three\",\"Three\",\"Three\",\"Three\",\"Three\",\"Three\",\"Three\",\"Three\",\"Three\",\"Three\",\"Three\",\"Three\",\"Three\",\"Three\",\"Three\",\"Three\",\"Three\",\"Three\",\"Three\",\"Three\",\"Three\",\"Three\",\"Three\",\"Three\",\"Three\",\"Three\",\"Three\",\"Three\",\"Three\",\"Three\",\"Three\",\"Three\",\"Three\",\"Three\",\"Three\",\"Three\",\"Three\",\"Three\",\"Three\",\"Three\",\"Three\",\"Three\",\"Three\",\"Three\",\"Three\",\"Three\",\"Three\",\"Three\",\"Three\",\"Three\",\"Three\",\"Three\",\"Three\",\"Three\",\"Three\",\"Three\",\"Three\",\"Four\",\"Four\",\"Four\",\"Four\",\"Four\",\"Four\",\"Four\",\"Four\",\"Four\",\"Four\",\"Four\",\"Four\",\"Four\",\"Four\",\"Four\",\"Four\",\"Four\",\"Four\",\"Four\",\"Four\",\"Four\",\"Four\",\"Five\",\"Five\",\"Five\",\"Five\",\"Five\",\"Five\",\"Five\",\"Five\",\"Five\",\"Five\",\"Five\",\"Five\",\"Five\",\"Five\",\"Five\",\"Five\",\"Five\",\"Five\",\"Five\",\"Five\",\"Five\",\"Five\",\"Five\",\"Five\",\"Five\",\"Five\",\"Five\",\"Five\",\"Five\",\"Five\",\"Five\",\"Five\",\"Five\",\"Five\",\"Five\",\"Five\",\"Five\",\"Five\",\"Five\",\"Five\",\"Five\",\"Five\",\"Five\",\"Five\",\"Five\",\"Five\",\"Five\",\"Five\",\"Five\",\"Five\",\"Five\",\"Five\",\"Five\",\"Five\",\"Five\",\"Five\",\"Five\",\"Five\",\"Five\",\"Five\",\"Five\",\"Five\",\"Five\",\"Five\",\"Five\",\"Five\",\"Five\",\"Five\",\"Five\",\"Five\",\"Five\",\"Five\",\"Five\",\"Five\",\"Five\",\"Five\",\"Five\",\"Five\",\"Five\",\"Five\",\"Five\",\"Five\",\"Five\",\"Five\",\"Five\",\"Five\",\"Six\",\"Six\",\"Six\",\"Six\",\"Six\",\"Six\",\"Six\",\"Six\",\"Six\",\"Six\",\"Six\",\"Six\",\"Six\",\"Six\",\"Six\",\"Six\",\"Six\",\"Six\",\"Six\",\"Six\",\"Six\",\"Six\",\"Six\",\"Six\",\"Six\",\"Six\",\"Six\",\"Six\",\"Six\",\"Six\",\"Six\",\"Six\",\"Six\",\"Six\",\"Six\",\"Six\",\"Six\",\"Six\",\"Six\",\"Six\",\"Six\",\"Six\",\"Six\",\"Six\",\"Six\",\"Six\",\"Six\",\"Six\",\"Six\",\"Six\",\"Six\",\"Six\",\"Six\",\"Six\",\"Six\",\"Six\",\"Six\",\"Six\",\"Six\",\"Six\",\"Six\",\"Six\",\"Six\",\"Six\",\"Six\",\"Six\",\"Six\",\"Six\",\"Six\",\"Six\",\"Six\",\"Six\",\"Six\",\"Six\",\"Six\",\"Six\",\"Six\",\"Six\",\"Six\",\"Six\",\"Six\",\"Six\",\"Six\",\"Six\",\"Six\",\"Six\",\"Six\",\"Six\",\"Six\",\"Six\",\"Six\",\"Six\",\"Six\",\"Six\",\"Six\",\"Six\",\"Six\",\"Six\",\"Six\",\"Six\",\"Six\",\"Six\"],\"marker\":{\"pattern\":{}}}];\r\n",
       "        var layout = {\"width\":350,\"height\":350,\"template\":{\"layout\":{\"title\":{\"x\":0.05},\"font\":{\"color\":\"rgba(42, 63, 95, 1.0)\"},\"paper_bgcolor\":\"rgba(255, 255, 255, 1.0)\",\"plot_bgcolor\":\"rgba(229, 236, 246, 1.0)\",\"autotypenumbers\":\"strict\",\"colorscale\":{\"diverging\":[[0.0,\"#8e0152\"],[0.1,\"#c51b7d\"],[0.2,\"#de77ae\"],[0.3,\"#f1b6da\"],[0.4,\"#fde0ef\"],[0.5,\"#f7f7f7\"],[0.6,\"#e6f5d0\"],[0.7,\"#b8e186\"],[0.8,\"#7fbc41\"],[0.9,\"#4d9221\"],[1.0,\"#276419\"]],\"sequential\":[[0.0,\"#0d0887\"],[0.1111111111111111,\"#46039f\"],[0.2222222222222222,\"#7201a8\"],[0.3333333333333333,\"#9c179e\"],[0.4444444444444444,\"#bd3786\"],[0.5555555555555556,\"#d8576b\"],[0.6666666666666666,\"#ed7953\"],[0.7777777777777778,\"#fb9f3a\"],[0.8888888888888888,\"#fdca26\"],[1.0,\"#f0f921\"]],\"sequentialminus\":[[0.0,\"#0d0887\"],[0.1111111111111111,\"#46039f\"],[0.2222222222222222,\"#7201a8\"],[0.3333333333333333,\"#9c179e\"],[0.4444444444444444,\"#bd3786\"],[0.5555555555555556,\"#d8576b\"],[0.6666666666666666,\"#ed7953\"],[0.7777777777777778,\"#fb9f3a\"],[0.8888888888888888,\"#fdca26\"],[1.0,\"#f0f921\"]]},\"hovermode\":\"closest\",\"hoverlabel\":{\"align\":\"left\"},\"coloraxis\":{\"colorbar\":{\"outlinewidth\":0.0,\"ticks\":\"\"}},\"geo\":{\"showland\":true,\"landcolor\":\"rgba(229, 236, 246, 1.0)\",\"showlakes\":true,\"lakecolor\":\"rgba(255, 255, 255, 1.0)\",\"subunitcolor\":\"rgba(255, 255, 255, 1.0)\",\"bgcolor\":\"rgba(255, 255, 255, 1.0)\"},\"mapbox\":{\"style\":\"light\"},\"polar\":{\"bgcolor\":\"rgba(229, 236, 246, 1.0)\",\"radialaxis\":{\"linecolor\":\"rgba(255, 255, 255, 1.0)\",\"gridcolor\":\"rgba(255, 255, 255, 1.0)\",\"ticks\":\"\"},\"angularaxis\":{\"linecolor\":\"rgba(255, 255, 255, 1.0)\",\"gridcolor\":\"rgba(255, 255, 255, 1.0)\",\"ticks\":\"\"}},\"scene\":{\"xaxis\":{\"ticks\":\"\",\"linecolor\":\"rgba(255, 255, 255, 1.0)\",\"gridcolor\":\"rgba(255, 255, 255, 1.0)\",\"gridwidth\":2.0,\"zerolinecolor\":\"rgba(255, 255, 255, 1.0)\",\"backgroundcolor\":\"rgba(229, 236, 246, 1.0)\",\"showbackground\":true},\"yaxis\":{\"ticks\":\"\",\"linecolor\":\"rgba(255, 255, 255, 1.0)\",\"gridcolor\":\"rgba(255, 255, 255, 1.0)\",\"gridwidth\":2.0,\"zerolinecolor\":\"rgba(255, 255, 255, 1.0)\",\"backgroundcolor\":\"rgba(229, 236, 246, 1.0)\",\"showbackground\":true},\"zaxis\":{\"ticks\":\"\",\"linecolor\":\"rgba(255, 255, 255, 1.0)\",\"gridcolor\":\"rgba(255, 255, 255, 1.0)\",\"gridwidth\":2.0,\"zerolinecolor\":\"rgba(255, 255, 255, 1.0)\",\"backgroundcolor\":\"rgba(229, 236, 246, 1.0)\",\"showbackground\":true}},\"ternary\":{\"aaxis\":{\"ticks\":\"\",\"linecolor\":\"rgba(255, 255, 255, 1.0)\",\"gridcolor\":\"rgba(255, 255, 255, 1.0)\"},\"baxis\":{\"ticks\":\"\",\"linecolor\":\"rgba(255, 255, 255, 1.0)\",\"gridcolor\":\"rgba(255, 255, 255, 1.0)\"},\"caxis\":{\"ticks\":\"\",\"linecolor\":\"rgba(255, 255, 255, 1.0)\",\"gridcolor\":\"rgba(255, 255, 255, 1.0)\"},\"bgcolor\":\"rgba(229, 236, 246, 1.0)\"},\"xaxis\":{\"title\":{\"standoff\":15},\"ticks\":\"\",\"automargin\":\"height+width+left+right+top+bottom\",\"linecolor\":\"rgba(255, 255, 255, 1.0)\",\"gridcolor\":\"rgba(255, 255, 255, 1.0)\",\"zerolinecolor\":\"rgba(255, 255, 255, 1.0)\",\"zerolinewidth\":2.0},\"yaxis\":{\"title\":{\"standoff\":15},\"ticks\":\"\",\"automargin\":\"height+width+left+right+top+bottom\",\"linecolor\":\"rgba(255, 255, 255, 1.0)\",\"gridcolor\":\"rgba(255, 255, 255, 1.0)\",\"zerolinecolor\":\"rgba(255, 255, 255, 1.0)\",\"zerolinewidth\":2.0},\"annotationdefaults\":{\"arrowcolor\":\"#2a3f5f\",\"arrowhead\":0,\"arrowwidth\":1},\"shapedefaults\":{\"line\":{\"color\":\"rgba(42, 63, 95, 1.0)\"}},\"colorway\":[\"rgba(99, 110, 250, 1.0)\",\"rgba(239, 85, 59, 1.0)\",\"rgba(0, 204, 150, 1.0)\",\"rgba(171, 99, 250, 1.0)\",\"rgba(255, 161, 90, 1.0)\",\"rgba(25, 211, 243, 1.0)\",\"rgba(255, 102, 146, 1.0)\",\"rgba(182, 232, 128, 1.0)\",\"rgba(255, 151, 255, 1.0)\",\"rgba(254, 203, 82, 1.0)\"]},\"data\":{\"bar\":[{\"marker\":{\"line\":{\"color\":\"rgba(229, 236, 246, 1.0)\",\"width\":0.5},\"pattern\":{\"fillmode\":\"overlay\",\"size\":10,\"solidity\":0.2}},\"error_x\":{\"color\":\"rgba(42, 63, 95, 1.0)\"},\"error_y\":{\"color\":\"rgba(42, 63, 95, 1.0)\"}}],\"barpolar\":[{\"marker\":{\"line\":{\"color\":\"rgba(229, 236, 246, 1.0)\",\"width\":0.5},\"pattern\":{\"fillmode\":\"overlay\",\"size\":10,\"solidity\":0.2}}}],\"carpet\":[{\"aaxis\":{\"linecolor\":\"rgba(255, 255, 255, 1.0)\",\"gridcolor\":\"rgba(255, 255, 255, 1.0)\",\"endlinecolor\":\"rgba(42, 63, 95, 1.0)\",\"minorgridcolor\":\"rgba(255, 255, 255, 1.0)\",\"startlinecolor\":\"rgba(42, 63, 95, 1.0)\"},\"baxis\":{\"linecolor\":\"rgba(255, 255, 255, 1.0)\",\"gridcolor\":\"rgba(255, 255, 255, 1.0)\",\"endlinecolor\":\"rgba(42, 63, 95, 1.0)\",\"minorgridcolor\":\"rgba(255, 255, 255, 1.0)\",\"startlinecolor\":\"rgba(42, 63, 95, 1.0)\"}}],\"choropleth\":[{\"colorbar\":{\"outlinewidth\":0.0,\"ticks\":\"\"},\"colorscale\":[[0.0,\"#0d0887\"],[0.1111111111111111,\"#46039f\"],[0.2222222222222222,\"#7201a8\"],[0.3333333333333333,\"#9c179e\"],[0.4444444444444444,\"#bd3786\"],[0.5555555555555556,\"#d8576b\"],[0.6666666666666666,\"#ed7953\"],[0.7777777777777778,\"#fb9f3a\"],[0.8888888888888888,\"#fdca26\"],[1.0,\"#f0f921\"]]}],\"contour\":[{\"colorbar\":{\"outlinewidth\":0.0,\"ticks\":\"\"},\"colorscale\":[[0.0,\"#0d0887\"],[0.1111111111111111,\"#46039f\"],[0.2222222222222222,\"#7201a8\"],[0.3333333333333333,\"#9c179e\"],[0.4444444444444444,\"#bd3786\"],[0.5555555555555556,\"#d8576b\"],[0.6666666666666666,\"#ed7953\"],[0.7777777777777778,\"#fb9f3a\"],[0.8888888888888888,\"#fdca26\"],[1.0,\"#f0f921\"]]}],\"contourcarpet\":[{\"colorbar\":{\"outlinewidth\":0.0,\"ticks\":\"\"}}],\"heatmap\":[{\"colorbar\":{\"outlinewidth\":0.0,\"ticks\":\"\"},\"colorscale\":[[0.0,\"#0d0887\"],[0.1111111111111111,\"#46039f\"],[0.2222222222222222,\"#7201a8\"],[0.3333333333333333,\"#9c179e\"],[0.4444444444444444,\"#bd3786\"],[0.5555555555555556,\"#d8576b\"],[0.6666666666666666,\"#ed7953\"],[0.7777777777777778,\"#fb9f3a\"],[0.8888888888888888,\"#fdca26\"],[1.0,\"#f0f921\"]]}],\"heatmapgl\":[{\"colorbar\":{\"outlinewidth\":0.0,\"ticks\":\"\"},\"colorscale\":[[0.0,\"#0d0887\"],[0.1111111111111111,\"#46039f\"],[0.2222222222222222,\"#7201a8\"],[0.3333333333333333,\"#9c179e\"],[0.4444444444444444,\"#bd3786\"],[0.5555555555555556,\"#d8576b\"],[0.6666666666666666,\"#ed7953\"],[0.7777777777777778,\"#fb9f3a\"],[0.8888888888888888,\"#fdca26\"],[1.0,\"#f0f921\"]]}],\"histogram\":[{\"marker\":{\"pattern\":{\"fillmode\":\"overlay\",\"size\":10,\"solidity\":0.2}}}],\"histogram2d\":[{\"colorbar\":{\"outlinewidth\":0.0,\"ticks\":\"\"},\"colorscale\":[[0.0,\"#0d0887\"],[0.1111111111111111,\"#46039f\"],[0.2222222222222222,\"#7201a8\"],[0.3333333333333333,\"#9c179e\"],[0.4444444444444444,\"#bd3786\"],[0.5555555555555556,\"#d8576b\"],[0.6666666666666666,\"#ed7953\"],[0.7777777777777778,\"#fb9f3a\"],[0.8888888888888888,\"#fdca26\"],[1.0,\"#f0f921\"]]}],\"histogram2dcontour\":[{\"colorbar\":{\"outlinewidth\":0.0,\"ticks\":\"\"},\"colorscale\":[[0.0,\"#0d0887\"],[0.1111111111111111,\"#46039f\"],[0.2222222222222222,\"#7201a8\"],[0.3333333333333333,\"#9c179e\"],[0.4444444444444444,\"#bd3786\"],[0.5555555555555556,\"#d8576b\"],[0.6666666666666666,\"#ed7953\"],[0.7777777777777778,\"#fb9f3a\"],[0.8888888888888888,\"#fdca26\"],[1.0,\"#f0f921\"]]}],\"mesh3d\":[{\"colorbar\":{\"outlinewidth\":0.0,\"ticks\":\"\"}}],\"parcoords\":[{\"line\":{\"colorbar\":{\"outlinewidth\":0.0,\"ticks\":\"\"}}}],\"pie\":[{\"automargin\":true}],\"scatter\":[{\"marker\":{\"colorbar\":{\"outlinewidth\":0.0,\"ticks\":\"\"}}}],\"scatter3d\":[{\"marker\":{\"colorbar\":{\"outlinewidth\":0.0,\"ticks\":\"\"}},\"line\":{\"colorbar\":{\"outlinewidth\":0.0,\"ticks\":\"\"}}}],\"scattercarpet\":[{\"marker\":{\"colorbar\":{\"outlinewidth\":0.0,\"ticks\":\"\"}}}],\"scattergeo\":[{\"marker\":{\"colorbar\":{\"outlinewidth\":0.0,\"ticks\":\"\"}}}],\"scattergl\":[{\"marker\":{\"colorbar\":{\"outlinewidth\":0.0,\"ticks\":\"\"}}}],\"scattermapbox\":[{\"marker\":{\"colorbar\":{\"outlinewidth\":0.0,\"ticks\":\"\"}}}],\"scatterpolar\":[{\"marker\":{\"colorbar\":{\"outlinewidth\":0.0,\"ticks\":\"\"}}}],\"scatterpolargl\":[{\"marker\":{\"colorbar\":{\"outlinewidth\":0.0,\"ticks\":\"\"}}}],\"scatterternary\":[{\"marker\":{\"colorbar\":{\"outlinewidth\":0.0,\"ticks\":\"\"}}}],\"surface\":[{\"colorbar\":{\"outlinewidth\":0.0,\"ticks\":\"\"},\"colorscale\":[[0.0,\"#0d0887\"],[0.1111111111111111,\"#46039f\"],[0.2222222222222222,\"#7201a8\"],[0.3333333333333333,\"#9c179e\"],[0.4444444444444444,\"#bd3786\"],[0.5555555555555556,\"#d8576b\"],[0.6666666666666666,\"#ed7953\"],[0.7777777777777778,\"#fb9f3a\"],[0.8888888888888888,\"#fdca26\"],[1.0,\"#f0f921\"]]}],\"table\":[{\"cells\":{\"fill\":{\"color\":\"rgba(235, 240, 248, 1.0)\"},\"line\":{\"color\":\"rgba(255, 255, 255, 1.0)\"}},\"header\":{\"fill\":{\"color\":\"rgba(200, 212, 227, 1.0)\"},\"line\":{\"color\":\"rgba(255, 255, 255, 1.0)\"}}}]}},\"xaxis\":{\"title\":{},\"showgrid\":true},\"margin\":{\"l\":20,\"r\":20,\"t\":20,\"b\":20},\"bargap\":0.1};\r\n",
       "        var config = {\"responsive\":true};\r\n",
       "        Plotly.newPlot('bcb905f5-b725-4d9c-881b-b64ff9014029', data, layout, config);\r\n",
       "    });\r\n",
       "};\r\n",
       "if ((typeof(requirejs) !==  typeof(Function)) || (typeof(requirejs.config) !== typeof(Function))) {\r\n",
       "    var script = document.createElement(\"script\");\r\n",
       "    script.setAttribute(\"src\", \"https://cdnjs.cloudflare.com/ajax/libs/require.js/2.3.6/require.min.js\");\r\n",
       "    script.onload = function(){\r\n",
       "        renderPlotly_bcb905f5b7254d9c881bb64ff9014029();\r\n",
       "    };\r\n",
       "    document.getElementsByTagName(\"head\")[0].appendChild(script);\r\n",
       "}\r\n",
       "else {\r\n",
       "    renderPlotly_bcb905f5b7254d9c881bb64ff9014029();\r\n",
       "}\r\n",
       "</script></div>"
      ]
     },
     "metadata": {},
     "output_type": "display_data"
    }
   ],
   "source": [
    "generateRawData rollLoadedDice 500\n",
    "|> prepareDataForHistogram\n",
    "|> Chart.Histogram\n",
    "|> Chart.withSize (chartSize, chartSize)\n",
    "|> Chart.withXAxisStyle (ShowGrid = true)\n",
    "|> Chart.withLayout layoutStyle"
   ]
  },
  {
   "cell_type": "code",
   "execution_count": 1326,
   "metadata": {
    "dotnet_interactive": {
     "language": "fsharp"
    },
    "polyglot_notebook": {
     "kernelName": "fsharp"
    }
   },
   "outputs": [
    {
     "data": {
      "text/html": [
       "<div><div id=\"c1b3764f-f85a-436f-a688-2f4728881715\"><!-- Plotly chart will be drawn inside this DIV --></div><script type=\"text/javascript\">\r\n",
       "var renderPlotly_c1b3764ff85a436fa6882f4728881715 = function() {\r\n",
       "    var fsharpPlotlyRequire = requirejs.config({context:'fsharp-plotly',paths:{plotly:'https://cdn.plot.ly/plotly-2.18.1.min'}}) || require;\r\n",
       "    fsharpPlotlyRequire(['plotly'], function(Plotly) {\r\n",
       "        var data = [{\"type\":\"histogram\",\"x\":[\"One\",\"One\",\"One\",\"One\",\"One\",\"One\",\"One\",\"One\",\"One\",\"One\",\"One\",\"One\",\"One\",\"One\",\"One\",\"One\",\"One\",\"One\",\"One\",\"One\",\"One\",\"One\",\"One\",\"One\",\"One\",\"One\",\"One\",\"One\",\"One\",\"One\",\"One\",\"One\",\"One\",\"One\",\"One\",\"One\",\"One\",\"One\",\"One\",\"One\",\"One\",\"One\",\"One\",\"One\",\"One\",\"One\",\"One\",\"One\",\"One\",\"One\",\"One\",\"One\",\"One\",\"One\",\"One\",\"One\",\"One\",\"One\",\"One\",\"One\",\"One\",\"One\",\"One\",\"One\",\"One\",\"One\",\"One\",\"One\",\"One\",\"One\",\"Two\",\"Two\",\"Two\",\"Two\",\"Two\",\"Two\",\"Two\",\"Two\",\"Two\",\"Two\",\"Two\",\"Two\",\"Two\",\"Two\",\"Two\",\"Two\",\"Two\",\"Two\",\"Two\",\"Two\",\"Two\",\"Two\",\"Two\",\"Two\",\"Two\",\"Two\",\"Two\",\"Two\",\"Two\",\"Two\",\"Two\",\"Two\",\"Two\",\"Two\",\"Two\",\"Two\",\"Two\",\"Two\",\"Two\",\"Two\",\"Two\",\"Two\",\"Two\",\"Two\",\"Two\",\"Two\",\"Two\",\"Two\",\"Two\",\"Two\",\"Two\",\"Two\",\"Two\",\"Two\",\"Two\",\"Two\",\"Two\",\"Two\",\"Two\",\"Two\",\"Two\",\"Two\",\"Two\",\"Two\",\"Two\",\"Two\",\"Two\",\"Two\",\"Two\",\"Two\",\"Two\",\"Two\",\"Two\",\"Two\",\"Two\",\"Two\",\"Two\",\"Two\",\"Two\",\"Two\",\"Two\",\"Two\",\"Two\",\"Two\",\"Two\",\"Two\",\"Two\",\"Two\",\"Three\",\"Three\",\"Three\",\"Three\",\"Three\",\"Three\",\"Three\",\"Three\",\"Three\",\"Three\",\"Three\",\"Three\",\"Three\",\"Three\",\"Three\",\"Three\",\"Three\",\"Three\",\"Three\",\"Three\",\"Three\",\"Three\",\"Three\",\"Three\",\"Three\",\"Three\",\"Three\",\"Three\",\"Three\",\"Three\",\"Three\",\"Three\",\"Three\",\"Three\",\"Three\",\"Three\",\"Three\",\"Three\",\"Three\",\"Three\",\"Three\",\"Three\",\"Three\",\"Three\",\"Three\",\"Three\",\"Three\",\"Three\",\"Three\",\"Three\",\"Three\",\"Three\",\"Three\",\"Three\",\"Three\",\"Three\",\"Three\",\"Three\",\"Three\",\"Three\",\"Three\",\"Three\",\"Three\",\"Three\",\"Three\",\"Three\",\"Three\",\"Three\",\"Three\",\"Three\",\"Three\",\"Three\",\"Three\",\"Three\",\"Three\",\"Three\",\"Three\",\"Three\",\"Three\",\"Three\",\"Four\",\"Four\",\"Four\",\"Four\",\"Four\",\"Four\",\"Four\",\"Four\",\"Four\",\"Four\",\"Four\",\"Four\",\"Four\",\"Four\",\"Four\",\"Four\",\"Four\",\"Four\",\"Four\",\"Four\",\"Four\",\"Four\",\"Four\",\"Four\",\"Four\",\"Four\",\"Four\",\"Four\",\"Four\",\"Four\",\"Four\",\"Four\",\"Four\",\"Four\",\"Four\",\"Four\",\"Four\",\"Four\",\"Four\",\"Four\",\"Four\",\"Four\",\"Four\",\"Four\",\"Four\",\"Four\",\"Four\",\"Four\",\"Four\",\"Four\",\"Four\",\"Four\",\"Four\",\"Four\",\"Four\",\"Four\",\"Four\",\"Four\",\"Four\",\"Four\",\"Four\",\"Four\",\"Four\",\"Four\",\"Four\",\"Four\",\"Four\",\"Four\",\"Four\",\"Four\",\"Four\",\"Four\",\"Four\",\"Four\",\"Four\",\"Four\",\"Four\",\"Four\",\"Four\",\"Four\",\"Four\",\"Four\",\"Four\",\"Four\",\"Four\",\"Four\",\"Four\",\"Four\",\"Four\",\"Four\",\"Four\",\"Five\",\"Five\",\"Five\",\"Five\",\"Five\",\"Five\",\"Five\",\"Five\",\"Five\",\"Five\",\"Five\",\"Five\",\"Five\",\"Five\",\"Five\",\"Five\",\"Five\",\"Five\",\"Five\",\"Five\",\"Five\",\"Five\",\"Five\",\"Five\",\"Five\",\"Five\",\"Five\",\"Five\",\"Five\",\"Five\",\"Five\",\"Five\",\"Five\",\"Five\",\"Five\",\"Five\",\"Five\",\"Five\",\"Five\",\"Five\",\"Five\",\"Five\",\"Five\",\"Five\",\"Five\",\"Five\",\"Five\",\"Five\",\"Five\",\"Five\",\"Five\",\"Five\",\"Five\",\"Five\",\"Five\",\"Five\",\"Five\",\"Five\",\"Five\",\"Five\",\"Five\",\"Five\",\"Five\",\"Five\",\"Five\",\"Five\",\"Five\",\"Five\",\"Five\",\"Five\",\"Five\",\"Five\",\"Five\",\"Five\",\"Five\",\"Five\",\"Five\",\"Five\",\"Five\",\"Five\",\"Five\",\"Five\",\"Five\",\"Five\",\"Five\",\"Five\",\"Five\",\"Five\",\"Five\",\"Five\",\"Five\",\"Five\",\"Five\",\"Five\",\"Six\",\"Six\",\"Six\",\"Six\",\"Six\",\"Six\",\"Six\",\"Six\",\"Six\",\"Six\",\"Six\",\"Six\",\"Six\",\"Six\",\"Six\",\"Six\",\"Six\",\"Six\",\"Six\",\"Six\",\"Six\",\"Six\",\"Six\",\"Six\",\"Six\",\"Six\",\"Six\",\"Six\",\"Six\",\"Six\",\"Six\",\"Six\",\"Six\",\"Six\",\"Six\",\"Six\",\"Six\",\"Six\",\"Six\",\"Six\",\"Six\",\"Six\",\"Six\",\"Six\",\"Six\",\"Six\",\"Six\",\"Six\",\"Six\",\"Six\",\"Six\",\"Six\",\"Six\",\"Six\",\"Six\",\"Six\",\"Six\",\"Six\",\"Six\",\"Six\",\"Six\",\"Six\",\"Six\",\"Six\",\"Six\",\"Six\",\"Six\",\"Six\",\"Six\",\"Six\",\"Six\",\"Six\",\"Six\",\"Six\",\"Six\",\"Six\",\"Six\"],\"marker\":{\"pattern\":{}}}];\r\n",
       "        var layout = {\"width\":350,\"height\":350,\"template\":{\"layout\":{\"title\":{\"x\":0.05},\"font\":{\"color\":\"rgba(42, 63, 95, 1.0)\"},\"paper_bgcolor\":\"rgba(255, 255, 255, 1.0)\",\"plot_bgcolor\":\"rgba(229, 236, 246, 1.0)\",\"autotypenumbers\":\"strict\",\"colorscale\":{\"diverging\":[[0.0,\"#8e0152\"],[0.1,\"#c51b7d\"],[0.2,\"#de77ae\"],[0.3,\"#f1b6da\"],[0.4,\"#fde0ef\"],[0.5,\"#f7f7f7\"],[0.6,\"#e6f5d0\"],[0.7,\"#b8e186\"],[0.8,\"#7fbc41\"],[0.9,\"#4d9221\"],[1.0,\"#276419\"]],\"sequential\":[[0.0,\"#0d0887\"],[0.1111111111111111,\"#46039f\"],[0.2222222222222222,\"#7201a8\"],[0.3333333333333333,\"#9c179e\"],[0.4444444444444444,\"#bd3786\"],[0.5555555555555556,\"#d8576b\"],[0.6666666666666666,\"#ed7953\"],[0.7777777777777778,\"#fb9f3a\"],[0.8888888888888888,\"#fdca26\"],[1.0,\"#f0f921\"]],\"sequentialminus\":[[0.0,\"#0d0887\"],[0.1111111111111111,\"#46039f\"],[0.2222222222222222,\"#7201a8\"],[0.3333333333333333,\"#9c179e\"],[0.4444444444444444,\"#bd3786\"],[0.5555555555555556,\"#d8576b\"],[0.6666666666666666,\"#ed7953\"],[0.7777777777777778,\"#fb9f3a\"],[0.8888888888888888,\"#fdca26\"],[1.0,\"#f0f921\"]]},\"hovermode\":\"closest\",\"hoverlabel\":{\"align\":\"left\"},\"coloraxis\":{\"colorbar\":{\"outlinewidth\":0.0,\"ticks\":\"\"}},\"geo\":{\"showland\":true,\"landcolor\":\"rgba(229, 236, 246, 1.0)\",\"showlakes\":true,\"lakecolor\":\"rgba(255, 255, 255, 1.0)\",\"subunitcolor\":\"rgba(255, 255, 255, 1.0)\",\"bgcolor\":\"rgba(255, 255, 255, 1.0)\"},\"mapbox\":{\"style\":\"light\"},\"polar\":{\"bgcolor\":\"rgba(229, 236, 246, 1.0)\",\"radialaxis\":{\"linecolor\":\"rgba(255, 255, 255, 1.0)\",\"gridcolor\":\"rgba(255, 255, 255, 1.0)\",\"ticks\":\"\"},\"angularaxis\":{\"linecolor\":\"rgba(255, 255, 255, 1.0)\",\"gridcolor\":\"rgba(255, 255, 255, 1.0)\",\"ticks\":\"\"}},\"scene\":{\"xaxis\":{\"ticks\":\"\",\"linecolor\":\"rgba(255, 255, 255, 1.0)\",\"gridcolor\":\"rgba(255, 255, 255, 1.0)\",\"gridwidth\":2.0,\"zerolinecolor\":\"rgba(255, 255, 255, 1.0)\",\"backgroundcolor\":\"rgba(229, 236, 246, 1.0)\",\"showbackground\":true},\"yaxis\":{\"ticks\":\"\",\"linecolor\":\"rgba(255, 255, 255, 1.0)\",\"gridcolor\":\"rgba(255, 255, 255, 1.0)\",\"gridwidth\":2.0,\"zerolinecolor\":\"rgba(255, 255, 255, 1.0)\",\"backgroundcolor\":\"rgba(229, 236, 246, 1.0)\",\"showbackground\":true},\"zaxis\":{\"ticks\":\"\",\"linecolor\":\"rgba(255, 255, 255, 1.0)\",\"gridcolor\":\"rgba(255, 255, 255, 1.0)\",\"gridwidth\":2.0,\"zerolinecolor\":\"rgba(255, 255, 255, 1.0)\",\"backgroundcolor\":\"rgba(229, 236, 246, 1.0)\",\"showbackground\":true}},\"ternary\":{\"aaxis\":{\"ticks\":\"\",\"linecolor\":\"rgba(255, 255, 255, 1.0)\",\"gridcolor\":\"rgba(255, 255, 255, 1.0)\"},\"baxis\":{\"ticks\":\"\",\"linecolor\":\"rgba(255, 255, 255, 1.0)\",\"gridcolor\":\"rgba(255, 255, 255, 1.0)\"},\"caxis\":{\"ticks\":\"\",\"linecolor\":\"rgba(255, 255, 255, 1.0)\",\"gridcolor\":\"rgba(255, 255, 255, 1.0)\"},\"bgcolor\":\"rgba(229, 236, 246, 1.0)\"},\"xaxis\":{\"title\":{\"standoff\":15},\"ticks\":\"\",\"automargin\":\"height+width+left+right+top+bottom\",\"linecolor\":\"rgba(255, 255, 255, 1.0)\",\"gridcolor\":\"rgba(255, 255, 255, 1.0)\",\"zerolinecolor\":\"rgba(255, 255, 255, 1.0)\",\"zerolinewidth\":2.0},\"yaxis\":{\"title\":{\"standoff\":15},\"ticks\":\"\",\"automargin\":\"height+width+left+right+top+bottom\",\"linecolor\":\"rgba(255, 255, 255, 1.0)\",\"gridcolor\":\"rgba(255, 255, 255, 1.0)\",\"zerolinecolor\":\"rgba(255, 255, 255, 1.0)\",\"zerolinewidth\":2.0},\"annotationdefaults\":{\"arrowcolor\":\"#2a3f5f\",\"arrowhead\":0,\"arrowwidth\":1},\"shapedefaults\":{\"line\":{\"color\":\"rgba(42, 63, 95, 1.0)\"}},\"colorway\":[\"rgba(99, 110, 250, 1.0)\",\"rgba(239, 85, 59, 1.0)\",\"rgba(0, 204, 150, 1.0)\",\"rgba(171, 99, 250, 1.0)\",\"rgba(255, 161, 90, 1.0)\",\"rgba(25, 211, 243, 1.0)\",\"rgba(255, 102, 146, 1.0)\",\"rgba(182, 232, 128, 1.0)\",\"rgba(255, 151, 255, 1.0)\",\"rgba(254, 203, 82, 1.0)\"]},\"data\":{\"bar\":[{\"marker\":{\"line\":{\"color\":\"rgba(229, 236, 246, 1.0)\",\"width\":0.5},\"pattern\":{\"fillmode\":\"overlay\",\"size\":10,\"solidity\":0.2}},\"error_x\":{\"color\":\"rgba(42, 63, 95, 1.0)\"},\"error_y\":{\"color\":\"rgba(42, 63, 95, 1.0)\"}}],\"barpolar\":[{\"marker\":{\"line\":{\"color\":\"rgba(229, 236, 246, 1.0)\",\"width\":0.5},\"pattern\":{\"fillmode\":\"overlay\",\"size\":10,\"solidity\":0.2}}}],\"carpet\":[{\"aaxis\":{\"linecolor\":\"rgba(255, 255, 255, 1.0)\",\"gridcolor\":\"rgba(255, 255, 255, 1.0)\",\"endlinecolor\":\"rgba(42, 63, 95, 1.0)\",\"minorgridcolor\":\"rgba(255, 255, 255, 1.0)\",\"startlinecolor\":\"rgba(42, 63, 95, 1.0)\"},\"baxis\":{\"linecolor\":\"rgba(255, 255, 255, 1.0)\",\"gridcolor\":\"rgba(255, 255, 255, 1.0)\",\"endlinecolor\":\"rgba(42, 63, 95, 1.0)\",\"minorgridcolor\":\"rgba(255, 255, 255, 1.0)\",\"startlinecolor\":\"rgba(42, 63, 95, 1.0)\"}}],\"choropleth\":[{\"colorbar\":{\"outlinewidth\":0.0,\"ticks\":\"\"},\"colorscale\":[[0.0,\"#0d0887\"],[0.1111111111111111,\"#46039f\"],[0.2222222222222222,\"#7201a8\"],[0.3333333333333333,\"#9c179e\"],[0.4444444444444444,\"#bd3786\"],[0.5555555555555556,\"#d8576b\"],[0.6666666666666666,\"#ed7953\"],[0.7777777777777778,\"#fb9f3a\"],[0.8888888888888888,\"#fdca26\"],[1.0,\"#f0f921\"]]}],\"contour\":[{\"colorbar\":{\"outlinewidth\":0.0,\"ticks\":\"\"},\"colorscale\":[[0.0,\"#0d0887\"],[0.1111111111111111,\"#46039f\"],[0.2222222222222222,\"#7201a8\"],[0.3333333333333333,\"#9c179e\"],[0.4444444444444444,\"#bd3786\"],[0.5555555555555556,\"#d8576b\"],[0.6666666666666666,\"#ed7953\"],[0.7777777777777778,\"#fb9f3a\"],[0.8888888888888888,\"#fdca26\"],[1.0,\"#f0f921\"]]}],\"contourcarpet\":[{\"colorbar\":{\"outlinewidth\":0.0,\"ticks\":\"\"}}],\"heatmap\":[{\"colorbar\":{\"outlinewidth\":0.0,\"ticks\":\"\"},\"colorscale\":[[0.0,\"#0d0887\"],[0.1111111111111111,\"#46039f\"],[0.2222222222222222,\"#7201a8\"],[0.3333333333333333,\"#9c179e\"],[0.4444444444444444,\"#bd3786\"],[0.5555555555555556,\"#d8576b\"],[0.6666666666666666,\"#ed7953\"],[0.7777777777777778,\"#fb9f3a\"],[0.8888888888888888,\"#fdca26\"],[1.0,\"#f0f921\"]]}],\"heatmapgl\":[{\"colorbar\":{\"outlinewidth\":0.0,\"ticks\":\"\"},\"colorscale\":[[0.0,\"#0d0887\"],[0.1111111111111111,\"#46039f\"],[0.2222222222222222,\"#7201a8\"],[0.3333333333333333,\"#9c179e\"],[0.4444444444444444,\"#bd3786\"],[0.5555555555555556,\"#d8576b\"],[0.6666666666666666,\"#ed7953\"],[0.7777777777777778,\"#fb9f3a\"],[0.8888888888888888,\"#fdca26\"],[1.0,\"#f0f921\"]]}],\"histogram\":[{\"marker\":{\"pattern\":{\"fillmode\":\"overlay\",\"size\":10,\"solidity\":0.2}}}],\"histogram2d\":[{\"colorbar\":{\"outlinewidth\":0.0,\"ticks\":\"\"},\"colorscale\":[[0.0,\"#0d0887\"],[0.1111111111111111,\"#46039f\"],[0.2222222222222222,\"#7201a8\"],[0.3333333333333333,\"#9c179e\"],[0.4444444444444444,\"#bd3786\"],[0.5555555555555556,\"#d8576b\"],[0.6666666666666666,\"#ed7953\"],[0.7777777777777778,\"#fb9f3a\"],[0.8888888888888888,\"#fdca26\"],[1.0,\"#f0f921\"]]}],\"histogram2dcontour\":[{\"colorbar\":{\"outlinewidth\":0.0,\"ticks\":\"\"},\"colorscale\":[[0.0,\"#0d0887\"],[0.1111111111111111,\"#46039f\"],[0.2222222222222222,\"#7201a8\"],[0.3333333333333333,\"#9c179e\"],[0.4444444444444444,\"#bd3786\"],[0.5555555555555556,\"#d8576b\"],[0.6666666666666666,\"#ed7953\"],[0.7777777777777778,\"#fb9f3a\"],[0.8888888888888888,\"#fdca26\"],[1.0,\"#f0f921\"]]}],\"mesh3d\":[{\"colorbar\":{\"outlinewidth\":0.0,\"ticks\":\"\"}}],\"parcoords\":[{\"line\":{\"colorbar\":{\"outlinewidth\":0.0,\"ticks\":\"\"}}}],\"pie\":[{\"automargin\":true}],\"scatter\":[{\"marker\":{\"colorbar\":{\"outlinewidth\":0.0,\"ticks\":\"\"}}}],\"scatter3d\":[{\"marker\":{\"colorbar\":{\"outlinewidth\":0.0,\"ticks\":\"\"}},\"line\":{\"colorbar\":{\"outlinewidth\":0.0,\"ticks\":\"\"}}}],\"scattercarpet\":[{\"marker\":{\"colorbar\":{\"outlinewidth\":0.0,\"ticks\":\"\"}}}],\"scattergeo\":[{\"marker\":{\"colorbar\":{\"outlinewidth\":0.0,\"ticks\":\"\"}}}],\"scattergl\":[{\"marker\":{\"colorbar\":{\"outlinewidth\":0.0,\"ticks\":\"\"}}}],\"scattermapbox\":[{\"marker\":{\"colorbar\":{\"outlinewidth\":0.0,\"ticks\":\"\"}}}],\"scatterpolar\":[{\"marker\":{\"colorbar\":{\"outlinewidth\":0.0,\"ticks\":\"\"}}}],\"scatterpolargl\":[{\"marker\":{\"colorbar\":{\"outlinewidth\":0.0,\"ticks\":\"\"}}}],\"scatterternary\":[{\"marker\":{\"colorbar\":{\"outlinewidth\":0.0,\"ticks\":\"\"}}}],\"surface\":[{\"colorbar\":{\"outlinewidth\":0.0,\"ticks\":\"\"},\"colorscale\":[[0.0,\"#0d0887\"],[0.1111111111111111,\"#46039f\"],[0.2222222222222222,\"#7201a8\"],[0.3333333333333333,\"#9c179e\"],[0.4444444444444444,\"#bd3786\"],[0.5555555555555556,\"#d8576b\"],[0.6666666666666666,\"#ed7953\"],[0.7777777777777778,\"#fb9f3a\"],[0.8888888888888888,\"#fdca26\"],[1.0,\"#f0f921\"]]}],\"table\":[{\"cells\":{\"fill\":{\"color\":\"rgba(235, 240, 248, 1.0)\"},\"line\":{\"color\":\"rgba(255, 255, 255, 1.0)\"}},\"header\":{\"fill\":{\"color\":\"rgba(200, 212, 227, 1.0)\"},\"line\":{\"color\":\"rgba(255, 255, 255, 1.0)\"}}}]}},\"xaxis\":{\"title\":{},\"showgrid\":true},\"margin\":{\"l\":20,\"r\":20,\"t\":20,\"b\":20},\"bargap\":0.1};\r\n",
       "        var config = {\"responsive\":true};\r\n",
       "        Plotly.newPlot('c1b3764f-f85a-436f-a688-2f4728881715', data, layout, config);\r\n",
       "    });\r\n",
       "};\r\n",
       "if ((typeof(requirejs) !==  typeof(Function)) || (typeof(requirejs.config) !== typeof(Function))) {\r\n",
       "    var script = document.createElement(\"script\");\r\n",
       "    script.setAttribute(\"src\", \"https://cdnjs.cloudflare.com/ajax/libs/require.js/2.3.6/require.min.js\");\r\n",
       "    script.onload = function(){\r\n",
       "        renderPlotly_c1b3764ff85a436fa6882f4728881715();\r\n",
       "    };\r\n",
       "    document.getElementsByTagName(\"head\")[0].appendChild(script);\r\n",
       "}\r\n",
       "else {\r\n",
       "    renderPlotly_c1b3764ff85a436fa6882f4728881715();\r\n",
       "}\r\n",
       "</script></div>"
      ]
     },
     "metadata": {},
     "output_type": "display_data"
    }
   ],
   "source": [
    "generateRawData rollFairDice 500\n",
    "|> prepareDataForHistogram\n",
    "|> Chart.Histogram\n",
    "|> Chart.withSize (chartSize, chartSize)\n",
    "|> Chart.withXAxisStyle (ShowGrid = true)\n",
    "|> Chart.withLayout layoutStyle"
   ]
  }
 ],
 "metadata": {
  "kernelspec": {
   "display_name": ".NET (C#)",
   "language": "C#",
   "name": ".net-csharp"
  },
  "polyglot_notebook": {
   "kernelInfo": {
    "defaultKernelName": "csharp",
    "items": [
     {
      "aliases": [],
      "name": "csharp"
     }
    ]
   }
  }
 },
 "nbformat": 4,
 "nbformat_minor": 2
}
